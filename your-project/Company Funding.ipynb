{
 "cells": [
  {
   "cell_type": "code",
   "execution_count": 1,
   "metadata": {},
   "outputs": [],
   "source": [
    "#Libraries\n",
    "\n",
    "import pandas as pd\n",
    "import numpy as np\n",
    "from scipy.stats import norm\n",
    "import matplotlib.pyplot as plt"
   ]
  },
  {
   "cell_type": "markdown",
   "metadata": {},
   "source": [
    "# Data Cleaning"
   ]
  },
  {
   "cell_type": "code",
   "execution_count": 2,
   "metadata": {},
   "outputs": [
    {
     "data": {
      "text/plain": [
       "Index(['name', 'market', 'classification', 'status', 'country_code',\n",
       "       'location', 'funding_rounds', 'founded_at', 'founded_month',\n",
       "       'founded_quarter', 'founded_year', 'first_funding_at',\n",
       "       'last_funding_at', 'seed', 'venture', 'equity_crowdfunding',\n",
       "       'undisclosed', 'convertible_note', 'debt_financing', 'angel', 'grant',\n",
       "       'private_equity', 'post_ipo_equity', 'post_ipo_debt',\n",
       "       'secondary_market', 'product_crowdfunding', 'round_A', 'round_B',\n",
       "       'round_C', 'round_D', 'round_E', 'round_F', 'round_G', 'round_H'],\n",
       "      dtype='object')"
      ]
     },
     "execution_count": 2,
     "metadata": {},
     "output_type": "execute_result"
    }
   ],
   "source": [
    "investments = pd.read_excel('investments_VC.xlsx',encoding=\"ISO-8859-1\")\n",
    "investments = investments[investments['name'].notna()]\n",
    "investments = investments.drop(['permalink','homepage_url','category_list','state_code','region','city',' funding_total_usd '],axis=1)\n",
    "investments = investments.rename(columns={' market ':'market'})\n",
    "investments.columns"
   ]
  },
  {
   "cell_type": "code",
   "execution_count": 3,
   "metadata": {},
   "outputs": [
    {
     "data": {
      "text/html": [
       "<div>\n",
       "<style scoped>\n",
       "    .dataframe tbody tr th:only-of-type {\n",
       "        vertical-align: middle;\n",
       "    }\n",
       "\n",
       "    .dataframe tbody tr th {\n",
       "        vertical-align: top;\n",
       "    }\n",
       "\n",
       "    .dataframe thead th {\n",
       "        text-align: right;\n",
       "    }\n",
       "</style>\n",
       "<table border=\"1\" class=\"dataframe\">\n",
       "  <thead>\n",
       "    <tr style=\"text-align: right;\">\n",
       "      <th></th>\n",
       "      <th>name</th>\n",
       "      <th>market</th>\n",
       "      <th>classification</th>\n",
       "      <th>status</th>\n",
       "      <th>country_code</th>\n",
       "      <th>location</th>\n",
       "      <th>funding_rounds</th>\n",
       "      <th>founded_at</th>\n",
       "      <th>founded_month</th>\n",
       "      <th>founded_quarter</th>\n",
       "      <th>...</th>\n",
       "      <th>product_crowdfunding</th>\n",
       "      <th>round_A</th>\n",
       "      <th>round_B</th>\n",
       "      <th>round_C</th>\n",
       "      <th>round_D</th>\n",
       "      <th>round_E</th>\n",
       "      <th>round_F</th>\n",
       "      <th>round_G</th>\n",
       "      <th>round_H</th>\n",
       "      <th>total_funding_usd</th>\n",
       "    </tr>\n",
       "  </thead>\n",
       "  <tbody>\n",
       "    <tr>\n",
       "      <th>0</th>\n",
       "      <td>#waywire</td>\n",
       "      <td>News</td>\n",
       "      <td>News and Publishing</td>\n",
       "      <td>acquired</td>\n",
       "      <td>USA</td>\n",
       "      <td>USA</td>\n",
       "      <td>1</td>\n",
       "      <td>2012-06-01 00:00:00</td>\n",
       "      <td>2012-06</td>\n",
       "      <td>2012-Q2</td>\n",
       "      <td>...</td>\n",
       "      <td>0.0</td>\n",
       "      <td>0.0</td>\n",
       "      <td>0.0</td>\n",
       "      <td>0.0</td>\n",
       "      <td>0.0</td>\n",
       "      <td>0.0</td>\n",
       "      <td>0.0</td>\n",
       "      <td>0.0</td>\n",
       "      <td>0.0</td>\n",
       "      <td>1750000.0</td>\n",
       "    </tr>\n",
       "    <tr>\n",
       "      <th>2</th>\n",
       "      <td>'Rock' Your Paper</td>\n",
       "      <td>Publishing</td>\n",
       "      <td>News and Publishing</td>\n",
       "      <td>operating</td>\n",
       "      <td>EST</td>\n",
       "      <td>Europe</td>\n",
       "      <td>1</td>\n",
       "      <td>2012-10-26 00:00:00</td>\n",
       "      <td>2012-10</td>\n",
       "      <td>2012-Q4</td>\n",
       "      <td>...</td>\n",
       "      <td>0.0</td>\n",
       "      <td>0.0</td>\n",
       "      <td>0.0</td>\n",
       "      <td>0.0</td>\n",
       "      <td>0.0</td>\n",
       "      <td>0.0</td>\n",
       "      <td>0.0</td>\n",
       "      <td>0.0</td>\n",
       "      <td>0.0</td>\n",
       "      <td>40000.0</td>\n",
       "    </tr>\n",
       "    <tr>\n",
       "      <th>3</th>\n",
       "      <td>(In)Touch Network</td>\n",
       "      <td>Electronics</td>\n",
       "      <td>Technology</td>\n",
       "      <td>operating</td>\n",
       "      <td>GBR</td>\n",
       "      <td>Europe</td>\n",
       "      <td>1</td>\n",
       "      <td>2011-04-01 00:00:00</td>\n",
       "      <td>2011-04</td>\n",
       "      <td>2011-Q2</td>\n",
       "      <td>...</td>\n",
       "      <td>0.0</td>\n",
       "      <td>0.0</td>\n",
       "      <td>0.0</td>\n",
       "      <td>0.0</td>\n",
       "      <td>0.0</td>\n",
       "      <td>0.0</td>\n",
       "      <td>0.0</td>\n",
       "      <td>0.0</td>\n",
       "      <td>0.0</td>\n",
       "      <td>1500000.0</td>\n",
       "    </tr>\n",
       "    <tr>\n",
       "      <th>4</th>\n",
       "      <td>-R- Ranch and Mine</td>\n",
       "      <td>Tourism</td>\n",
       "      <td>Hospitality</td>\n",
       "      <td>operating</td>\n",
       "      <td>USA</td>\n",
       "      <td>USA</td>\n",
       "      <td>2</td>\n",
       "      <td>2014-01-01 00:00:00</td>\n",
       "      <td>2014-01</td>\n",
       "      <td>2014-Q1</td>\n",
       "      <td>...</td>\n",
       "      <td>0.0</td>\n",
       "      <td>0.0</td>\n",
       "      <td>0.0</td>\n",
       "      <td>0.0</td>\n",
       "      <td>0.0</td>\n",
       "      <td>0.0</td>\n",
       "      <td>0.0</td>\n",
       "      <td>0.0</td>\n",
       "      <td>0.0</td>\n",
       "      <td>60000.0</td>\n",
       "    </tr>\n",
       "    <tr>\n",
       "      <th>8</th>\n",
       "      <td>004 Technologies</td>\n",
       "      <td>Software</td>\n",
       "      <td>Technology</td>\n",
       "      <td>operating</td>\n",
       "      <td>USA</td>\n",
       "      <td>USA</td>\n",
       "      <td>1</td>\n",
       "      <td>2010-01-01 00:00:00</td>\n",
       "      <td>2010-01</td>\n",
       "      <td>2010-Q1</td>\n",
       "      <td>...</td>\n",
       "      <td>0.0</td>\n",
       "      <td>0.0</td>\n",
       "      <td>0.0</td>\n",
       "      <td>0.0</td>\n",
       "      <td>0.0</td>\n",
       "      <td>0.0</td>\n",
       "      <td>0.0</td>\n",
       "      <td>0.0</td>\n",
       "      <td>0.0</td>\n",
       "      <td>0.0</td>\n",
       "    </tr>\n",
       "    <tr>\n",
       "      <th>...</th>\n",
       "      <td>...</td>\n",
       "      <td>...</td>\n",
       "      <td>...</td>\n",
       "      <td>...</td>\n",
       "      <td>...</td>\n",
       "      <td>...</td>\n",
       "      <td>...</td>\n",
       "      <td>...</td>\n",
       "      <td>...</td>\n",
       "      <td>...</td>\n",
       "      <td>...</td>\n",
       "      <td>...</td>\n",
       "      <td>...</td>\n",
       "      <td>...</td>\n",
       "      <td>...</td>\n",
       "      <td>...</td>\n",
       "      <td>...</td>\n",
       "      <td>...</td>\n",
       "      <td>...</td>\n",
       "      <td>...</td>\n",
       "      <td>...</td>\n",
       "    </tr>\n",
       "    <tr>\n",
       "      <th>49430</th>\n",
       "      <td>Zyraz Technology</td>\n",
       "      <td>Biotechnology</td>\n",
       "      <td>Technology</td>\n",
       "      <td>closed</td>\n",
       "      <td>MYS</td>\n",
       "      <td>RoW</td>\n",
       "      <td>4</td>\n",
       "      <td>1994-01-01 00:00:00</td>\n",
       "      <td>1994-01</td>\n",
       "      <td>1994-Q1</td>\n",
       "      <td>...</td>\n",
       "      <td>0.0</td>\n",
       "      <td>7991547.0</td>\n",
       "      <td>0.0</td>\n",
       "      <td>0.0</td>\n",
       "      <td>0.0</td>\n",
       "      <td>0.0</td>\n",
       "      <td>0.0</td>\n",
       "      <td>0.0</td>\n",
       "      <td>0.0</td>\n",
       "      <td>23411424.0</td>\n",
       "    </tr>\n",
       "    <tr>\n",
       "      <th>49432</th>\n",
       "      <td>Zytoprotec</td>\n",
       "      <td>Biotechnology</td>\n",
       "      <td>Technology</td>\n",
       "      <td>operating</td>\n",
       "      <td>AUT</td>\n",
       "      <td>Europe</td>\n",
       "      <td>1</td>\n",
       "      <td>2007-01-01 00:00:00</td>\n",
       "      <td>2007-01</td>\n",
       "      <td>2007-Q1</td>\n",
       "      <td>...</td>\n",
       "      <td>0.0</td>\n",
       "      <td>2686600.0</td>\n",
       "      <td>0.0</td>\n",
       "      <td>0.0</td>\n",
       "      <td>0.0</td>\n",
       "      <td>0.0</td>\n",
       "      <td>0.0</td>\n",
       "      <td>0.0</td>\n",
       "      <td>0.0</td>\n",
       "      <td>5373200.0</td>\n",
       "    </tr>\n",
       "    <tr>\n",
       "      <th>49433</th>\n",
       "      <td>Zzish</td>\n",
       "      <td>Education</td>\n",
       "      <td>Education</td>\n",
       "      <td>operating</td>\n",
       "      <td>GBR</td>\n",
       "      <td>Europe</td>\n",
       "      <td>1</td>\n",
       "      <td>2013-01-28 00:00:00</td>\n",
       "      <td>2013-01</td>\n",
       "      <td>2013-Q1</td>\n",
       "      <td>...</td>\n",
       "      <td>0.0</td>\n",
       "      <td>0.0</td>\n",
       "      <td>0.0</td>\n",
       "      <td>0.0</td>\n",
       "      <td>0.0</td>\n",
       "      <td>0.0</td>\n",
       "      <td>0.0</td>\n",
       "      <td>0.0</td>\n",
       "      <td>0.0</td>\n",
       "      <td>320000.0</td>\n",
       "    </tr>\n",
       "    <tr>\n",
       "      <th>49435</th>\n",
       "      <td>Zzzzapp Wireless ltd.</td>\n",
       "      <td>Web Development</td>\n",
       "      <td>Technology</td>\n",
       "      <td>operating</td>\n",
       "      <td>HRV</td>\n",
       "      <td>Europe</td>\n",
       "      <td>5</td>\n",
       "      <td>2012-05-13 00:00:00</td>\n",
       "      <td>2012-05</td>\n",
       "      <td>2012-Q2</td>\n",
       "      <td>...</td>\n",
       "      <td>0.0</td>\n",
       "      <td>0.0</td>\n",
       "      <td>0.0</td>\n",
       "      <td>0.0</td>\n",
       "      <td>0.0</td>\n",
       "      <td>0.0</td>\n",
       "      <td>0.0</td>\n",
       "      <td>0.0</td>\n",
       "      <td>0.0</td>\n",
       "      <td>97398.0</td>\n",
       "    </tr>\n",
       "    <tr>\n",
       "      <th>49437</th>\n",
       "      <td>[x+1]</td>\n",
       "      <td>Enterprise Software</td>\n",
       "      <td>Technology</td>\n",
       "      <td>operating</td>\n",
       "      <td>USA</td>\n",
       "      <td>USA</td>\n",
       "      <td>4</td>\n",
       "      <td>1999-01-01 00:00:00</td>\n",
       "      <td>1999-01</td>\n",
       "      <td>1999-Q1</td>\n",
       "      <td>...</td>\n",
       "      <td>0.0</td>\n",
       "      <td>16000000.0</td>\n",
       "      <td>10000000.0</td>\n",
       "      <td>0.0</td>\n",
       "      <td>0.0</td>\n",
       "      <td>0.0</td>\n",
       "      <td>0.0</td>\n",
       "      <td>0.0</td>\n",
       "      <td>0.0</td>\n",
       "      <td>71000000.0</td>\n",
       "    </tr>\n",
       "  </tbody>\n",
       "</table>\n",
       "<p>33152 rows × 35 columns</p>\n",
       "</div>"
      ],
      "text/plain": [
       "                        name                 market       classification  \\\n",
       "0                   #waywire                  News   News and Publishing   \n",
       "2          'Rock' Your Paper            Publishing   News and Publishing   \n",
       "3          (In)Touch Network           Electronics            Technology   \n",
       "4         -R- Ranch and Mine               Tourism           Hospitality   \n",
       "8           004 Technologies              Software            Technology   \n",
       "...                      ...                    ...                  ...   \n",
       "49430       Zyraz Technology         Biotechnology            Technology   \n",
       "49432             Zytoprotec         Biotechnology            Technology   \n",
       "49433                  Zzish             Education             Education   \n",
       "49435  Zzzzapp Wireless ltd.       Web Development            Technology   \n",
       "49437                  [x+1]   Enterprise Software            Technology   \n",
       "\n",
       "          status country_code location  funding_rounds           founded_at  \\\n",
       "0       acquired          USA      USA               1  2012-06-01 00:00:00   \n",
       "2      operating          EST   Europe               1  2012-10-26 00:00:00   \n",
       "3      operating          GBR   Europe               1  2011-04-01 00:00:00   \n",
       "4      operating          USA      USA               2  2014-01-01 00:00:00   \n",
       "8      operating          USA      USA               1  2010-01-01 00:00:00   \n",
       "...          ...          ...      ...             ...                  ...   \n",
       "49430     closed          MYS      RoW               4  1994-01-01 00:00:00   \n",
       "49432  operating          AUT   Europe               1  2007-01-01 00:00:00   \n",
       "49433  operating          GBR   Europe               1  2013-01-28 00:00:00   \n",
       "49435  operating          HRV   Europe               5  2012-05-13 00:00:00   \n",
       "49437  operating          USA      USA               4  1999-01-01 00:00:00   \n",
       "\n",
       "      founded_month founded_quarter  ...  product_crowdfunding     round_A  \\\n",
       "0           2012-06         2012-Q2  ...                   0.0         0.0   \n",
       "2           2012-10         2012-Q4  ...                   0.0         0.0   \n",
       "3           2011-04         2011-Q2  ...                   0.0         0.0   \n",
       "4           2014-01         2014-Q1  ...                   0.0         0.0   \n",
       "8           2010-01         2010-Q1  ...                   0.0         0.0   \n",
       "...             ...             ...  ...                   ...         ...   \n",
       "49430       1994-01         1994-Q1  ...                   0.0   7991547.0   \n",
       "49432       2007-01         2007-Q1  ...                   0.0   2686600.0   \n",
       "49433       2013-01         2013-Q1  ...                   0.0         0.0   \n",
       "49435       2012-05         2012-Q2  ...                   0.0         0.0   \n",
       "49437       1999-01         1999-Q1  ...                   0.0  16000000.0   \n",
       "\n",
       "          round_B  round_C  round_D  round_E  round_F  round_G  round_H  \\\n",
       "0             0.0      0.0      0.0      0.0      0.0      0.0      0.0   \n",
       "2             0.0      0.0      0.0      0.0      0.0      0.0      0.0   \n",
       "3             0.0      0.0      0.0      0.0      0.0      0.0      0.0   \n",
       "4             0.0      0.0      0.0      0.0      0.0      0.0      0.0   \n",
       "8             0.0      0.0      0.0      0.0      0.0      0.0      0.0   \n",
       "...           ...      ...      ...      ...      ...      ...      ...   \n",
       "49430         0.0      0.0      0.0      0.0      0.0      0.0      0.0   \n",
       "49432         0.0      0.0      0.0      0.0      0.0      0.0      0.0   \n",
       "49433         0.0      0.0      0.0      0.0      0.0      0.0      0.0   \n",
       "49435         0.0      0.0      0.0      0.0      0.0      0.0      0.0   \n",
       "49437  10000000.0      0.0      0.0      0.0      0.0      0.0      0.0   \n",
       "\n",
       "       total_funding_usd  \n",
       "0              1750000.0  \n",
       "2                40000.0  \n",
       "3              1500000.0  \n",
       "4                60000.0  \n",
       "8                    0.0  \n",
       "...                  ...  \n",
       "49430         23411424.0  \n",
       "49432          5373200.0  \n",
       "49433           320000.0  \n",
       "49435            97398.0  \n",
       "49437         71000000.0  \n",
       "\n",
       "[33152 rows x 35 columns]"
      ]
     },
     "execution_count": 3,
     "metadata": {},
     "output_type": "execute_result"
    }
   ],
   "source": [
    "investments = investments[investments['market'].notna()]\n",
    "investments = investments[investments['founded_year'].notna()]\n",
    "investments = investments[investments['country_code'].notna()]\n",
    "investments = investments[investments['status'].notna()]\n",
    "investments['total_funding_usd'] = investments[investments.columns[12:]].sum(axis=1)\n",
    "investments.founded_year = investments.founded_year.astype(int)\n",
    "investments.funding_rounds = investments.funding_rounds.astype(int)\n",
    "investments"
   ]
  },
  {
   "cell_type": "code",
   "execution_count": 4,
   "metadata": {},
   "outputs": [
    {
     "data": {
      "text/plain": [
       "array(['USA', 'EST', 'GBR', 'CHL', 'FRA', 'CHN', 'CAN', 'AUS', 'ROM',\n",
       "       'NLD', 'SWE', 'DNK', 'IND', 'SGP', 'DEU', 'IRL', 'ITA', 'ISR',\n",
       "       'ESP', 'THA', 'RUS', 'NZL', 'BEL', 'CZE', 'CHE', 'BRA', 'HUN',\n",
       "       'BWA', 'KOR', 'HKG', 'FIN', 'TUR', 'JPN', 'CRI', 'PRT', 'ARG',\n",
       "       'TWN', 'COL', 'NOR', 'UKR', 'LTU', 'ZAF', 'AUT', 'PHL', 'ISL',\n",
       "       'JOR', 'VNM', 'GHA', 'PER', 'POL', 'IDN', 'ALB', 'UGA', 'HRV',\n",
       "       'LBN', 'ARE', 'NGA', 'EGY', 'LUX', 'PAK', 'MEX', 'MYS', 'BHS',\n",
       "       'ARM', 'MDA', 'DZA', 'BGR', 'TUN', 'TZA', 'CYP', 'KEN', 'NPL',\n",
       "       'BHR', 'CMR', 'SRB', 'SAU', 'CYM', 'BRN', 'SLV', 'GRC', 'LVA',\n",
       "       'PAN', 'SVK', 'ECU', 'MLT', 'NIC', 'SVN', 'TTO', 'MMR', 'BGD',\n",
       "       'DOM', 'MAR', 'URY', 'GTM', 'AZE', 'MCO', 'UZB', 'OMN', 'BLR',\n",
       "       'BMU', 'JAM', 'KHM', 'MUS', 'SOM', 'MKD', 'GIB', 'SYC', 'MAF',\n",
       "       'LAO'], dtype=object)"
      ]
     },
     "execution_count": 4,
     "metadata": {},
     "output_type": "execute_result"
    }
   ],
   "source": [
    "investments.country_code.unique()"
   ]
  },
  {
   "cell_type": "code",
   "execution_count": 5,
   "metadata": {},
   "outputs": [
    {
     "data": {
      "text/plain": [
       "722099810529.0"
      ]
     },
     "execution_count": 5,
     "metadata": {},
     "output_type": "execute_result"
    }
   ],
   "source": [
    "new = investments.corr()\n",
    "new.total_funding_usd\n",
    "investments[['total_funding_usd','debt_financing']]\n",
    "investments['total_funding_usd'].sum()"
   ]
  },
  {
   "cell_type": "code",
   "execution_count": 6,
   "metadata": {},
   "outputs": [
    {
     "data": {
      "text/plain": [
       "72857016734.0"
      ]
     },
     "execution_count": 6,
     "metadata": {},
     "output_type": "execute_result"
    }
   ],
   "source": [
    "investments['debt_financing'].sum()"
   ]
  },
  {
   "cell_type": "code",
   "execution_count": 7,
   "metadata": {},
   "outputs": [
    {
     "data": {
      "text/html": [
       "<div>\n",
       "<style scoped>\n",
       "    .dataframe tbody tr th:only-of-type {\n",
       "        vertical-align: middle;\n",
       "    }\n",
       "\n",
       "    .dataframe tbody tr th {\n",
       "        vertical-align: top;\n",
       "    }\n",
       "\n",
       "    .dataframe thead th {\n",
       "        text-align: right;\n",
       "    }\n",
       "</style>\n",
       "<table border=\"1\" class=\"dataframe\">\n",
       "  <thead>\n",
       "    <tr style=\"text-align: right;\">\n",
       "      <th></th>\n",
       "      <th>country_code</th>\n",
       "    </tr>\n",
       "    <tr>\n",
       "      <th>country_code</th>\n",
       "      <th></th>\n",
       "    </tr>\n",
       "  </thead>\n",
       "  <tbody>\n",
       "    <tr>\n",
       "      <th>USA</th>\n",
       "      <td>22220</td>\n",
       "    </tr>\n",
       "    <tr>\n",
       "      <th>GBR</th>\n",
       "      <td>1901</td>\n",
       "    </tr>\n",
       "    <tr>\n",
       "      <th>CAN</th>\n",
       "      <td>1040</td>\n",
       "    </tr>\n",
       "    <tr>\n",
       "      <th>DEU</th>\n",
       "      <td>702</td>\n",
       "    </tr>\n",
       "    <tr>\n",
       "      <th>IND</th>\n",
       "      <td>646</td>\n",
       "    </tr>\n",
       "    <tr>\n",
       "      <th>CHN</th>\n",
       "      <td>638</td>\n",
       "    </tr>\n",
       "    <tr>\n",
       "      <th>FRA</th>\n",
       "      <td>621</td>\n",
       "    </tr>\n",
       "    <tr>\n",
       "      <th>ISR</th>\n",
       "      <td>575</td>\n",
       "    </tr>\n",
       "  </tbody>\n",
       "</table>\n",
       "</div>"
      ],
      "text/plain": [
       "              country_code\n",
       "country_code              \n",
       "USA                  22220\n",
       "GBR                   1901\n",
       "CAN                   1040\n",
       "DEU                    702\n",
       "IND                    646\n",
       "CHN                    638\n",
       "FRA                    621\n",
       "ISR                    575"
      ]
     },
     "execution_count": 7,
     "metadata": {},
     "output_type": "execute_result"
    }
   ],
   "source": [
    "investments.groupby('classification')['total_funding_usd'].mean()\n",
    "country =investments.groupby('country_code')['country_code'].count().sort_values(ascending=False).to_frame()\n",
    "country = country.rename(columns={0: \"number\"})\n",
    "country = country.loc[country['country_code'] > 499, ['country_code']]\n",
    "country"
   ]
  },
  {
   "cell_type": "markdown",
   "metadata": {},
   "source": [
    "## 21st companies get more funding than 20th companies - without year adjustment"
   ]
  },
  {
   "cell_type": "code",
   "execution_count": 8,
   "metadata": {},
   "outputs": [],
   "source": [
    "from scipy.stats import ttest_ind"
   ]
  },
  {
   "cell_type": "code",
   "execution_count": 9,
   "metadata": {},
   "outputs": [],
   "source": [
    "funding = investments\n",
    "funding['other'] = funding['angel']+funding['equity_crowdfunding']+funding['product_crowdfunding']+funding['seed']+funding['venture']\n",
    "funding['debt'] = funding['debt_financing']+funding['post_ipo_debt']"
   ]
  },
  {
   "cell_type": "code",
   "execution_count": 10,
   "metadata": {},
   "outputs": [
    {
     "data": {
      "text/plain": [
       "9046622.18388774"
      ]
     },
     "execution_count": 10,
     "metadata": {},
     "output_type": "execute_result"
    }
   ],
   "source": [
    "companies_21st = funding.loc[funding.founded_year > 1999 , ['other']]\n",
    "companies_21st = companies_21st['other'].tolist()\n",
    "\n",
    "np.mean(companies_21st)"
   ]
  },
  {
   "cell_type": "code",
   "execution_count": 11,
   "metadata": {},
   "outputs": [
    {
     "data": {
      "text/plain": [
       "12678231.703809524"
      ]
     },
     "execution_count": 11,
     "metadata": {},
     "output_type": "execute_result"
    }
   ],
   "source": [
    "companies_20th = funding.loc[funding.founded_year < 2000 , ['other']]\n",
    "companies_20th = companies_20th['other'].tolist()\n",
    "np.mean(companies_20th)"
   ]
  },
  {
   "cell_type": "code",
   "execution_count": 12,
   "metadata": {},
   "outputs": [
    {
     "data": {
      "text/plain": [
       "(-4600789.3881722065, -2662429.65167136)"
      ]
     },
     "execution_count": 12,
     "metadata": {},
     "output_type": "execute_result"
    }
   ],
   "source": [
    "sample_mean = np.mean(companies_21st) - np.mean(companies_20th)\n",
    "standard_error = np.sqrt(np.var(companies_21st)/len(companies_21st) + np.var(companies_20th)/len(companies_20th))\n",
    "\n",
    "normal = norm(sample_mean,standard_error)\n",
    "\n",
    "lower, upper = normal.interval(0.95)\n",
    "\n",
    "lower, upper"
   ]
  },
  {
   "cell_type": "markdown",
   "metadata": {},
   "source": [
    "## 21st companies get more funding than 20th companies - with year adjustment"
   ]
  },
  {
   "cell_type": "code",
   "execution_count": 13,
   "metadata": {},
   "outputs": [],
   "source": [
    "funding['years'] = 2020 - funding['founded_year'].astype(int) \n",
    "funding['other_funding_per_year'] = funding['other'] / funding['years']\n",
    "funding['debt_per_year'] = funding['debt'] / funding['years']"
   ]
  },
  {
   "cell_type": "code",
   "execution_count": 14,
   "metadata": {},
   "outputs": [
    {
     "data": {
      "text/plain": [
       "720071.5314879376"
      ]
     },
     "execution_count": 14,
     "metadata": {},
     "output_type": "execute_result"
    }
   ],
   "source": [
    "companies_21st = funding.loc[funding.founded_year > 1999 , ['other_funding_per_year']]\n",
    "companies_21st = companies_21st['other_funding_per_year'].tolist()\n",
    "\n",
    "np.mean(companies_21st)"
   ]
  },
  {
   "cell_type": "code",
   "execution_count": 15,
   "metadata": {},
   "outputs": [
    {
     "data": {
      "text/plain": [
       "519521.4456066432"
      ]
     },
     "execution_count": 15,
     "metadata": {},
     "output_type": "execute_result"
    }
   ],
   "source": [
    "companies_20th = funding.loc[funding.founded_year < 2000 , ['other_funding_per_year']]\n",
    "companies_20th = companies_20th['other_funding_per_year'].tolist()\n",
    "np.mean(companies_20th)"
   ]
  },
  {
   "cell_type": "code",
   "execution_count": 16,
   "metadata": {},
   "outputs": [
    {
     "data": {
      "text/plain": [
       "(151991.22383578162, 249108.94792680704)"
      ]
     },
     "execution_count": 16,
     "metadata": {},
     "output_type": "execute_result"
    }
   ],
   "source": [
    "sample_mean = np.mean(companies_21st) - np.mean(companies_20th)\n",
    "standard_error = np.sqrt(np.var(companies_21st)/len(companies_21st) + np.var(companies_20th)/len(companies_20th))\n",
    "\n",
    "normal = norm(sample_mean,standard_error)\n",
    "\n",
    "lower, upper = normal.interval(0.95)\n",
    "\n",
    "lower, upper"
   ]
  },
  {
   "cell_type": "markdown",
   "metadata": {},
   "source": [
    "### 21st companies get more seed, venture, angel and crowdfunding"
   ]
  },
  {
   "cell_type": "code",
   "execution_count": 17,
   "metadata": {},
   "outputs": [
    {
     "name": "stderr",
     "output_type": "stream",
     "text": [
      "/Users/telmabatista/opt/anaconda3/lib/python3.7/site-packages/ipykernel_launcher.py:2: SettingWithCopyWarning: \n",
      "A value is trying to be set on a copy of a slice from a DataFrame.\n",
      "Try using .loc[row_indexer,col_indexer] = value instead\n",
      "\n",
      "See the caveats in the documentation: https://pandas.pydata.org/pandas-docs/stable/user_guide/indexing.html#returning-a-view-versus-a-copy\n",
      "  \n",
      "/Users/telmabatista/opt/anaconda3/lib/python3.7/site-packages/ipykernel_launcher.py:3: SettingWithCopyWarning: \n",
      "A value is trying to be set on a copy of a slice from a DataFrame.\n",
      "Try using .loc[row_indexer,col_indexer] = value instead\n",
      "\n",
      "See the caveats in the documentation: https://pandas.pydata.org/pandas-docs/stable/user_guide/indexing.html#returning-a-view-versus-a-copy\n",
      "  This is separate from the ipykernel package so we can avoid doing imports until\n"
     ]
    }
   ],
   "source": [
    "companies_21st_df = investments.loc[investments.founded_year > 1999]\n",
    "companies_21st_df['other'] = companies_21st_df['seed'] + companies_21st_df['venture'] + companies_21st_df['equity_crowdfunding'] + companies_21st_df['angel'] + companies_21st_df['product_crowdfunding']\n",
    "companies_21st_df['debt'] = companies_21st_df['debt_financing'] + companies_21st_df['post_ipo_debt']"
   ]
  },
  {
   "cell_type": "code",
   "execution_count": 18,
   "metadata": {},
   "outputs": [
    {
     "data": {
      "text/plain": [
       "9046622.18388774"
      ]
     },
     "execution_count": 18,
     "metadata": {},
     "output_type": "execute_result"
    }
   ],
   "source": [
    "np.mean(companies_21st_df['other'].tolist())"
   ]
  },
  {
   "cell_type": "code",
   "execution_count": 19,
   "metadata": {},
   "outputs": [
    {
     "data": {
      "text/plain": [
       "1.879041397240184"
      ]
     },
     "execution_count": 19,
     "metadata": {},
     "output_type": "execute_result"
    }
   ],
   "source": [
    "np.mean(companies_21st_df['funding_rounds'].tolist())"
   ]
  },
  {
   "cell_type": "code",
   "execution_count": 20,
   "metadata": {},
   "outputs": [
    {
     "data": {
      "text/plain": [
       "1063715.1471568563"
      ]
     },
     "execution_count": 20,
     "metadata": {},
     "output_type": "execute_result"
    }
   ],
   "source": [
    "np.mean(companies_21st_df['debt'].tolist())"
   ]
  },
  {
   "cell_type": "code",
   "execution_count": 21,
   "metadata": {},
   "outputs": [
    {
     "name": "stderr",
     "output_type": "stream",
     "text": [
      "/Users/telmabatista/opt/anaconda3/lib/python3.7/site-packages/ipykernel_launcher.py:2: SettingWithCopyWarning: \n",
      "A value is trying to be set on a copy of a slice from a DataFrame.\n",
      "Try using .loc[row_indexer,col_indexer] = value instead\n",
      "\n",
      "See the caveats in the documentation: https://pandas.pydata.org/pandas-docs/stable/user_guide/indexing.html#returning-a-view-versus-a-copy\n",
      "  \n",
      "/Users/telmabatista/opt/anaconda3/lib/python3.7/site-packages/ipykernel_launcher.py:3: SettingWithCopyWarning: \n",
      "A value is trying to be set on a copy of a slice from a DataFrame.\n",
      "Try using .loc[row_indexer,col_indexer] = value instead\n",
      "\n",
      "See the caveats in the documentation: https://pandas.pydata.org/pandas-docs/stable/user_guide/indexing.html#returning-a-view-versus-a-copy\n",
      "  This is separate from the ipykernel package so we can avoid doing imports until\n"
     ]
    }
   ],
   "source": [
    "companies_20th_df = investments.loc[investments.founded_year < 2000]\n",
    "companies_20th_df['other'] = companies_20th_df['seed'] + companies_20th_df['venture'] + companies_20th_df['equity_crowdfunding'] + companies_20th_df['angel'] + companies_20th_df['product_crowdfunding'] \n",
    "companies_20th_df['debt'] = companies_20th_df['debt_financing'] + companies_20th_df['post_ipo_debt']"
   ]
  },
  {
   "cell_type": "code",
   "execution_count": 22,
   "metadata": {},
   "outputs": [
    {
     "data": {
      "text/plain": [
       "12678231.703809524"
      ]
     },
     "execution_count": 22,
     "metadata": {},
     "output_type": "execute_result"
    }
   ],
   "source": [
    "np.mean(companies_20th_df['other'].tolist())"
   ]
  },
  {
   "cell_type": "code",
   "execution_count": 23,
   "metadata": {},
   "outputs": [
    {
     "data": {
      "text/plain": [
       "1.7777777777777777"
      ]
     },
     "execution_count": 23,
     "metadata": {},
     "output_type": "execute_result"
    }
   ],
   "source": [
    "np.mean(companies_20th_df['funding_rounds'].tolist())"
   ]
  },
  {
   "cell_type": "code",
   "execution_count": 24,
   "metadata": {},
   "outputs": [
    {
     "data": {
      "text/plain": [
       "15560698.52984127"
      ]
     },
     "execution_count": 24,
     "metadata": {},
     "output_type": "execute_result"
    }
   ],
   "source": [
    "np.mean(companies_20th_df['debt'].tolist())"
   ]
  },
  {
   "cell_type": "markdown",
   "metadata": {},
   "source": [
    "### Funding per year"
   ]
  },
  {
   "cell_type": "code",
   "execution_count": 25,
   "metadata": {},
   "outputs": [
    {
     "data": {
      "text/html": [
       "<div>\n",
       "<style scoped>\n",
       "    .dataframe tbody tr th:only-of-type {\n",
       "        vertical-align: middle;\n",
       "    }\n",
       "\n",
       "    .dataframe tbody tr th {\n",
       "        vertical-align: top;\n",
       "    }\n",
       "\n",
       "    .dataframe thead th {\n",
       "        text-align: right;\n",
       "    }\n",
       "</style>\n",
       "<table border=\"1\" class=\"dataframe\">\n",
       "  <thead>\n",
       "    <tr style=\"text-align: right;\">\n",
       "      <th></th>\n",
       "      <th>name</th>\n",
       "      <th>market</th>\n",
       "      <th>classification</th>\n",
       "      <th>status</th>\n",
       "      <th>country_code</th>\n",
       "      <th>location</th>\n",
       "      <th>funding_rounds</th>\n",
       "      <th>founded_at</th>\n",
       "      <th>founded_month</th>\n",
       "      <th>founded_quarter</th>\n",
       "      <th>...</th>\n",
       "      <th>round_E</th>\n",
       "      <th>round_F</th>\n",
       "      <th>round_G</th>\n",
       "      <th>round_H</th>\n",
       "      <th>total_funding_usd</th>\n",
       "      <th>other</th>\n",
       "      <th>debt</th>\n",
       "      <th>years</th>\n",
       "      <th>other_funding_per_year</th>\n",
       "      <th>debt_per_year</th>\n",
       "    </tr>\n",
       "  </thead>\n",
       "  <tbody>\n",
       "    <tr>\n",
       "      <th>0</th>\n",
       "      <td>#waywire</td>\n",
       "      <td>News</td>\n",
       "      <td>News and Publishing</td>\n",
       "      <td>acquired</td>\n",
       "      <td>USA</td>\n",
       "      <td>USA</td>\n",
       "      <td>1</td>\n",
       "      <td>2012-06-01 00:00:00</td>\n",
       "      <td>2012-06</td>\n",
       "      <td>2012-Q2</td>\n",
       "      <td>...</td>\n",
       "      <td>0.0</td>\n",
       "      <td>0.0</td>\n",
       "      <td>0.0</td>\n",
       "      <td>0.0</td>\n",
       "      <td>1750000.0</td>\n",
       "      <td>1750000.0</td>\n",
       "      <td>0.0</td>\n",
       "      <td>8</td>\n",
       "      <td>2.187500e+05</td>\n",
       "      <td>0.000000</td>\n",
       "    </tr>\n",
       "    <tr>\n",
       "      <th>2</th>\n",
       "      <td>'Rock' Your Paper</td>\n",
       "      <td>Publishing</td>\n",
       "      <td>News and Publishing</td>\n",
       "      <td>operating</td>\n",
       "      <td>EST</td>\n",
       "      <td>Europe</td>\n",
       "      <td>1</td>\n",
       "      <td>2012-10-26 00:00:00</td>\n",
       "      <td>2012-10</td>\n",
       "      <td>2012-Q4</td>\n",
       "      <td>...</td>\n",
       "      <td>0.0</td>\n",
       "      <td>0.0</td>\n",
       "      <td>0.0</td>\n",
       "      <td>0.0</td>\n",
       "      <td>40000.0</td>\n",
       "      <td>40000.0</td>\n",
       "      <td>0.0</td>\n",
       "      <td>8</td>\n",
       "      <td>5.000000e+03</td>\n",
       "      <td>0.000000</td>\n",
       "    </tr>\n",
       "    <tr>\n",
       "      <th>3</th>\n",
       "      <td>(In)Touch Network</td>\n",
       "      <td>Electronics</td>\n",
       "      <td>Technology</td>\n",
       "      <td>operating</td>\n",
       "      <td>GBR</td>\n",
       "      <td>Europe</td>\n",
       "      <td>1</td>\n",
       "      <td>2011-04-01 00:00:00</td>\n",
       "      <td>2011-04</td>\n",
       "      <td>2011-Q2</td>\n",
       "      <td>...</td>\n",
       "      <td>0.0</td>\n",
       "      <td>0.0</td>\n",
       "      <td>0.0</td>\n",
       "      <td>0.0</td>\n",
       "      <td>1500000.0</td>\n",
       "      <td>1500000.0</td>\n",
       "      <td>0.0</td>\n",
       "      <td>9</td>\n",
       "      <td>1.666667e+05</td>\n",
       "      <td>0.000000</td>\n",
       "    </tr>\n",
       "    <tr>\n",
       "      <th>4</th>\n",
       "      <td>-R- Ranch and Mine</td>\n",
       "      <td>Tourism</td>\n",
       "      <td>Hospitality</td>\n",
       "      <td>operating</td>\n",
       "      <td>USA</td>\n",
       "      <td>USA</td>\n",
       "      <td>2</td>\n",
       "      <td>2014-01-01 00:00:00</td>\n",
       "      <td>2014-01</td>\n",
       "      <td>2014-Q1</td>\n",
       "      <td>...</td>\n",
       "      <td>0.0</td>\n",
       "      <td>0.0</td>\n",
       "      <td>0.0</td>\n",
       "      <td>0.0</td>\n",
       "      <td>60000.0</td>\n",
       "      <td>60000.0</td>\n",
       "      <td>0.0</td>\n",
       "      <td>6</td>\n",
       "      <td>1.000000e+04</td>\n",
       "      <td>0.000000</td>\n",
       "    </tr>\n",
       "    <tr>\n",
       "      <th>8</th>\n",
       "      <td>004 Technologies</td>\n",
       "      <td>Software</td>\n",
       "      <td>Technology</td>\n",
       "      <td>operating</td>\n",
       "      <td>USA</td>\n",
       "      <td>USA</td>\n",
       "      <td>1</td>\n",
       "      <td>2010-01-01 00:00:00</td>\n",
       "      <td>2010-01</td>\n",
       "      <td>2010-Q1</td>\n",
       "      <td>...</td>\n",
       "      <td>0.0</td>\n",
       "      <td>0.0</td>\n",
       "      <td>0.0</td>\n",
       "      <td>0.0</td>\n",
       "      <td>0.0</td>\n",
       "      <td>0.0</td>\n",
       "      <td>0.0</td>\n",
       "      <td>10</td>\n",
       "      <td>0.000000e+00</td>\n",
       "      <td>0.000000</td>\n",
       "    </tr>\n",
       "    <tr>\n",
       "      <th>...</th>\n",
       "      <td>...</td>\n",
       "      <td>...</td>\n",
       "      <td>...</td>\n",
       "      <td>...</td>\n",
       "      <td>...</td>\n",
       "      <td>...</td>\n",
       "      <td>...</td>\n",
       "      <td>...</td>\n",
       "      <td>...</td>\n",
       "      <td>...</td>\n",
       "      <td>...</td>\n",
       "      <td>...</td>\n",
       "      <td>...</td>\n",
       "      <td>...</td>\n",
       "      <td>...</td>\n",
       "      <td>...</td>\n",
       "      <td>...</td>\n",
       "      <td>...</td>\n",
       "      <td>...</td>\n",
       "      <td>...</td>\n",
       "      <td>...</td>\n",
       "    </tr>\n",
       "    <tr>\n",
       "      <th>49430</th>\n",
       "      <td>Zyraz Technology</td>\n",
       "      <td>Biotechnology</td>\n",
       "      <td>Technology</td>\n",
       "      <td>closed</td>\n",
       "      <td>MYS</td>\n",
       "      <td>RoW</td>\n",
       "      <td>4</td>\n",
       "      <td>1994-01-01 00:00:00</td>\n",
       "      <td>1994-01</td>\n",
       "      <td>1994-Q1</td>\n",
       "      <td>...</td>\n",
       "      <td>0.0</td>\n",
       "      <td>0.0</td>\n",
       "      <td>0.0</td>\n",
       "      <td>0.0</td>\n",
       "      <td>23411424.0</td>\n",
       "      <td>9998910.0</td>\n",
       "      <td>0.0</td>\n",
       "      <td>26</td>\n",
       "      <td>3.845735e+05</td>\n",
       "      <td>0.000000</td>\n",
       "    </tr>\n",
       "    <tr>\n",
       "      <th>49432</th>\n",
       "      <td>Zytoprotec</td>\n",
       "      <td>Biotechnology</td>\n",
       "      <td>Technology</td>\n",
       "      <td>operating</td>\n",
       "      <td>AUT</td>\n",
       "      <td>Europe</td>\n",
       "      <td>1</td>\n",
       "      <td>2007-01-01 00:00:00</td>\n",
       "      <td>2007-01</td>\n",
       "      <td>2007-Q1</td>\n",
       "      <td>...</td>\n",
       "      <td>0.0</td>\n",
       "      <td>0.0</td>\n",
       "      <td>0.0</td>\n",
       "      <td>0.0</td>\n",
       "      <td>5373200.0</td>\n",
       "      <td>2686600.0</td>\n",
       "      <td>0.0</td>\n",
       "      <td>13</td>\n",
       "      <td>2.066615e+05</td>\n",
       "      <td>0.000000</td>\n",
       "    </tr>\n",
       "    <tr>\n",
       "      <th>49433</th>\n",
       "      <td>Zzish</td>\n",
       "      <td>Education</td>\n",
       "      <td>Education</td>\n",
       "      <td>operating</td>\n",
       "      <td>GBR</td>\n",
       "      <td>Europe</td>\n",
       "      <td>1</td>\n",
       "      <td>2013-01-28 00:00:00</td>\n",
       "      <td>2013-01</td>\n",
       "      <td>2013-Q1</td>\n",
       "      <td>...</td>\n",
       "      <td>0.0</td>\n",
       "      <td>0.0</td>\n",
       "      <td>0.0</td>\n",
       "      <td>0.0</td>\n",
       "      <td>320000.0</td>\n",
       "      <td>320000.0</td>\n",
       "      <td>0.0</td>\n",
       "      <td>7</td>\n",
       "      <td>4.571429e+04</td>\n",
       "      <td>0.000000</td>\n",
       "    </tr>\n",
       "    <tr>\n",
       "      <th>49435</th>\n",
       "      <td>Zzzzapp Wireless ltd.</td>\n",
       "      <td>Web Development</td>\n",
       "      <td>Technology</td>\n",
       "      <td>operating</td>\n",
       "      <td>HRV</td>\n",
       "      <td>Europe</td>\n",
       "      <td>5</td>\n",
       "      <td>2012-05-13 00:00:00</td>\n",
       "      <td>2012-05</td>\n",
       "      <td>2012-Q2</td>\n",
       "      <td>...</td>\n",
       "      <td>0.0</td>\n",
       "      <td>0.0</td>\n",
       "      <td>0.0</td>\n",
       "      <td>0.0</td>\n",
       "      <td>97398.0</td>\n",
       "      <td>71525.0</td>\n",
       "      <td>0.0</td>\n",
       "      <td>8</td>\n",
       "      <td>8.940625e+03</td>\n",
       "      <td>0.000000</td>\n",
       "    </tr>\n",
       "    <tr>\n",
       "      <th>49437</th>\n",
       "      <td>[x+1]</td>\n",
       "      <td>Enterprise Software</td>\n",
       "      <td>Technology</td>\n",
       "      <td>operating</td>\n",
       "      <td>USA</td>\n",
       "      <td>USA</td>\n",
       "      <td>4</td>\n",
       "      <td>1999-01-01 00:00:00</td>\n",
       "      <td>1999-01</td>\n",
       "      <td>1999-Q1</td>\n",
       "      <td>...</td>\n",
       "      <td>0.0</td>\n",
       "      <td>0.0</td>\n",
       "      <td>0.0</td>\n",
       "      <td>0.0</td>\n",
       "      <td>71000000.0</td>\n",
       "      <td>28000000.0</td>\n",
       "      <td>17000000.0</td>\n",
       "      <td>21</td>\n",
       "      <td>1.333333e+06</td>\n",
       "      <td>809523.809524</td>\n",
       "    </tr>\n",
       "  </tbody>\n",
       "</table>\n",
       "<p>33152 rows × 40 columns</p>\n",
       "</div>"
      ],
      "text/plain": [
       "                        name                 market       classification  \\\n",
       "0                   #waywire                  News   News and Publishing   \n",
       "2          'Rock' Your Paper            Publishing   News and Publishing   \n",
       "3          (In)Touch Network           Electronics            Technology   \n",
       "4         -R- Ranch and Mine               Tourism           Hospitality   \n",
       "8           004 Technologies              Software            Technology   \n",
       "...                      ...                    ...                  ...   \n",
       "49430       Zyraz Technology         Biotechnology            Technology   \n",
       "49432             Zytoprotec         Biotechnology            Technology   \n",
       "49433                  Zzish             Education             Education   \n",
       "49435  Zzzzapp Wireless ltd.       Web Development            Technology   \n",
       "49437                  [x+1]   Enterprise Software            Technology   \n",
       "\n",
       "          status country_code location  funding_rounds           founded_at  \\\n",
       "0       acquired          USA      USA               1  2012-06-01 00:00:00   \n",
       "2      operating          EST   Europe               1  2012-10-26 00:00:00   \n",
       "3      operating          GBR   Europe               1  2011-04-01 00:00:00   \n",
       "4      operating          USA      USA               2  2014-01-01 00:00:00   \n",
       "8      operating          USA      USA               1  2010-01-01 00:00:00   \n",
       "...          ...          ...      ...             ...                  ...   \n",
       "49430     closed          MYS      RoW               4  1994-01-01 00:00:00   \n",
       "49432  operating          AUT   Europe               1  2007-01-01 00:00:00   \n",
       "49433  operating          GBR   Europe               1  2013-01-28 00:00:00   \n",
       "49435  operating          HRV   Europe               5  2012-05-13 00:00:00   \n",
       "49437  operating          USA      USA               4  1999-01-01 00:00:00   \n",
       "\n",
       "      founded_month founded_quarter  ...  round_E round_F round_G  round_H  \\\n",
       "0           2012-06         2012-Q2  ...      0.0     0.0     0.0      0.0   \n",
       "2           2012-10         2012-Q4  ...      0.0     0.0     0.0      0.0   \n",
       "3           2011-04         2011-Q2  ...      0.0     0.0     0.0      0.0   \n",
       "4           2014-01         2014-Q1  ...      0.0     0.0     0.0      0.0   \n",
       "8           2010-01         2010-Q1  ...      0.0     0.0     0.0      0.0   \n",
       "...             ...             ...  ...      ...     ...     ...      ...   \n",
       "49430       1994-01         1994-Q1  ...      0.0     0.0     0.0      0.0   \n",
       "49432       2007-01         2007-Q1  ...      0.0     0.0     0.0      0.0   \n",
       "49433       2013-01         2013-Q1  ...      0.0     0.0     0.0      0.0   \n",
       "49435       2012-05         2012-Q2  ...      0.0     0.0     0.0      0.0   \n",
       "49437       1999-01         1999-Q1  ...      0.0     0.0     0.0      0.0   \n",
       "\n",
       "       total_funding_usd       other        debt  years  \\\n",
       "0              1750000.0   1750000.0         0.0      8   \n",
       "2                40000.0     40000.0         0.0      8   \n",
       "3              1500000.0   1500000.0         0.0      9   \n",
       "4                60000.0     60000.0         0.0      6   \n",
       "8                    0.0         0.0         0.0     10   \n",
       "...                  ...         ...         ...    ...   \n",
       "49430         23411424.0   9998910.0         0.0     26   \n",
       "49432          5373200.0   2686600.0         0.0     13   \n",
       "49433           320000.0    320000.0         0.0      7   \n",
       "49435            97398.0     71525.0         0.0      8   \n",
       "49437         71000000.0  28000000.0  17000000.0     21   \n",
       "\n",
       "       other_funding_per_year  debt_per_year  \n",
       "0                2.187500e+05       0.000000  \n",
       "2                5.000000e+03       0.000000  \n",
       "3                1.666667e+05       0.000000  \n",
       "4                1.000000e+04       0.000000  \n",
       "8                0.000000e+00       0.000000  \n",
       "...                       ...            ...  \n",
       "49430            3.845735e+05       0.000000  \n",
       "49432            2.066615e+05       0.000000  \n",
       "49433            4.571429e+04       0.000000  \n",
       "49435            8.940625e+03       0.000000  \n",
       "49437            1.333333e+06  809523.809524  \n",
       "\n",
       "[33152 rows x 40 columns]"
      ]
     },
     "execution_count": 25,
     "metadata": {},
     "output_type": "execute_result"
    }
   ],
   "source": [
    "funding = investments\n",
    "funding['other'] = funding['angel']+funding['equity_crowdfunding']+funding['product_crowdfunding']+funding['seed']+funding['venture']\n",
    "funding['debt'] = funding['debt_financing']+funding['post_ipo_debt']\n",
    "funding['years'] = 2020 - funding['founded_year'].astype(int) \n",
    "funding['other_funding_per_year'] = funding['other'] / funding['years']\n",
    "funding['debt_per_year'] = funding['debt'] / funding['years']\n",
    "\n",
    "funding"
   ]
  },
  {
   "cell_type": "code",
   "execution_count": 26,
   "metadata": {},
   "outputs": [
    {
     "data": {
      "text/html": [
       "<div>\n",
       "<style scoped>\n",
       "    .dataframe tbody tr th:only-of-type {\n",
       "        vertical-align: middle;\n",
       "    }\n",
       "\n",
       "    .dataframe tbody tr th {\n",
       "        vertical-align: top;\n",
       "    }\n",
       "\n",
       "    .dataframe thead th {\n",
       "        text-align: right;\n",
       "    }\n",
       "</style>\n",
       "<table border=\"1\" class=\"dataframe\">\n",
       "  <thead>\n",
       "    <tr style=\"text-align: right;\">\n",
       "      <th></th>\n",
       "      <th>founded_year</th>\n",
       "      <th>debt_per_year</th>\n",
       "      <th>other_funding_per_year</th>\n",
       "      <th>years</th>\n",
       "    </tr>\n",
       "  </thead>\n",
       "  <tbody>\n",
       "    <tr>\n",
       "      <th>0</th>\n",
       "      <td>1902</td>\n",
       "      <td>0.000000</td>\n",
       "      <td>26271.186441</td>\n",
       "      <td>118</td>\n",
       "    </tr>\n",
       "    <tr>\n",
       "      <th>1</th>\n",
       "      <td>1903</td>\n",
       "      <td>79487.179487</td>\n",
       "      <td>0.000000</td>\n",
       "      <td>117</td>\n",
       "    </tr>\n",
       "    <tr>\n",
       "      <th>2</th>\n",
       "      <td>1906</td>\n",
       "      <td>0.000000</td>\n",
       "      <td>49707.602339</td>\n",
       "      <td>114</td>\n",
       "    </tr>\n",
       "    <tr>\n",
       "      <th>3</th>\n",
       "      <td>1908</td>\n",
       "      <td>0.000000</td>\n",
       "      <td>51693.750000</td>\n",
       "      <td>112</td>\n",
       "    </tr>\n",
       "    <tr>\n",
       "      <th>4</th>\n",
       "      <td>1910</td>\n",
       "      <td>0.000000</td>\n",
       "      <td>454.545455</td>\n",
       "      <td>110</td>\n",
       "    </tr>\n",
       "    <tr>\n",
       "      <th>...</th>\n",
       "      <td>...</td>\n",
       "      <td>...</td>\n",
       "      <td>...</td>\n",
       "      <td>...</td>\n",
       "    </tr>\n",
       "    <tr>\n",
       "      <th>95</th>\n",
       "      <td>2010</td>\n",
       "      <td>25578.982400</td>\n",
       "      <td>649800.390511</td>\n",
       "      <td>10</td>\n",
       "    </tr>\n",
       "    <tr>\n",
       "      <th>96</th>\n",
       "      <td>2011</td>\n",
       "      <td>37949.659133</td>\n",
       "      <td>506899.746641</td>\n",
       "      <td>9</td>\n",
       "    </tr>\n",
       "    <tr>\n",
       "      <th>97</th>\n",
       "      <td>2012</td>\n",
       "      <td>32916.167790</td>\n",
       "      <td>374317.980189</td>\n",
       "      <td>8</td>\n",
       "    </tr>\n",
       "    <tr>\n",
       "      <th>98</th>\n",
       "      <td>2013</td>\n",
       "      <td>20669.763163</td>\n",
       "      <td>274540.412444</td>\n",
       "      <td>7</td>\n",
       "    </tr>\n",
       "    <tr>\n",
       "      <th>99</th>\n",
       "      <td>2014</td>\n",
       "      <td>5180.673605</td>\n",
       "      <td>144084.145222</td>\n",
       "      <td>6</td>\n",
       "    </tr>\n",
       "  </tbody>\n",
       "</table>\n",
       "<p>100 rows × 4 columns</p>\n",
       "</div>"
      ],
      "text/plain": [
       "    founded_year  debt_per_year  other_funding_per_year  years\n",
       "0           1902       0.000000            26271.186441    118\n",
       "1           1903   79487.179487                0.000000    117\n",
       "2           1906       0.000000            49707.602339    114\n",
       "3           1908       0.000000            51693.750000    112\n",
       "4           1910       0.000000              454.545455    110\n",
       "..           ...            ...                     ...    ...\n",
       "95          2010   25578.982400           649800.390511     10\n",
       "96          2011   37949.659133           506899.746641      9\n",
       "97          2012   32916.167790           374317.980189      8\n",
       "98          2013   20669.763163           274540.412444      7\n",
       "99          2014    5180.673605           144084.145222      6\n",
       "\n",
       "[100 rows x 4 columns]"
      ]
     },
     "execution_count": 26,
     "metadata": {},
     "output_type": "execute_result"
    }
   ],
   "source": [
    "funding = pd.pivot_table(funding, index = 'founded_year', values = ['other_funding_per_year','debt_per_year','years'], aggfunc = np.mean)\n",
    "funding = funding.reset_index()\n",
    "funding"
   ]
  },
  {
   "cell_type": "code",
   "execution_count": 27,
   "metadata": {},
   "outputs": [
    {
     "data": {
      "text/html": [
       "<div>\n",
       "<style scoped>\n",
       "    .dataframe tbody tr th:only-of-type {\n",
       "        vertical-align: middle;\n",
       "    }\n",
       "\n",
       "    .dataframe tbody tr th {\n",
       "        vertical-align: top;\n",
       "    }\n",
       "\n",
       "    .dataframe thead th {\n",
       "        text-align: right;\n",
       "    }\n",
       "</style>\n",
       "<table border=\"1\" class=\"dataframe\">\n",
       "  <thead>\n",
       "    <tr style=\"text-align: right;\">\n",
       "      <th></th>\n",
       "      <th>debt_per_year</th>\n",
       "      <th>other_funding_per_year</th>\n",
       "      <th>years</th>\n",
       "    </tr>\n",
       "  </thead>\n",
       "  <tbody>\n",
       "    <tr>\n",
       "      <th>85</th>\n",
       "      <td>80001.278615</td>\n",
       "      <td>9.057404e+05</td>\n",
       "      <td>20</td>\n",
       "    </tr>\n",
       "    <tr>\n",
       "      <th>86</th>\n",
       "      <td>202095.213099</td>\n",
       "      <td>9.481889e+05</td>\n",
       "      <td>19</td>\n",
       "    </tr>\n",
       "    <tr>\n",
       "      <th>87</th>\n",
       "      <td>75945.273321</td>\n",
       "      <td>1.072306e+06</td>\n",
       "      <td>18</td>\n",
       "    </tr>\n",
       "    <tr>\n",
       "      <th>88</th>\n",
       "      <td>202006.844303</td>\n",
       "      <td>1.109622e+06</td>\n",
       "      <td>17</td>\n",
       "    </tr>\n",
       "    <tr>\n",
       "      <th>89</th>\n",
       "      <td>132393.112028</td>\n",
       "      <td>1.363132e+06</td>\n",
       "      <td>16</td>\n",
       "    </tr>\n",
       "    <tr>\n",
       "      <th>90</th>\n",
       "      <td>217347.507490</td>\n",
       "      <td>1.240642e+06</td>\n",
       "      <td>15</td>\n",
       "    </tr>\n",
       "    <tr>\n",
       "      <th>91</th>\n",
       "      <td>73191.682774</td>\n",
       "      <td>1.121304e+06</td>\n",
       "      <td>14</td>\n",
       "    </tr>\n",
       "    <tr>\n",
       "      <th>92</th>\n",
       "      <td>284471.820779</td>\n",
       "      <td>1.213827e+06</td>\n",
       "      <td>13</td>\n",
       "    </tr>\n",
       "    <tr>\n",
       "      <th>93</th>\n",
       "      <td>67997.892704</td>\n",
       "      <td>9.117491e+05</td>\n",
       "      <td>12</td>\n",
       "    </tr>\n",
       "    <tr>\n",
       "      <th>94</th>\n",
       "      <td>83449.326794</td>\n",
       "      <td>8.291433e+05</td>\n",
       "      <td>11</td>\n",
       "    </tr>\n",
       "    <tr>\n",
       "      <th>95</th>\n",
       "      <td>25578.982400</td>\n",
       "      <td>6.498004e+05</td>\n",
       "      <td>10</td>\n",
       "    </tr>\n",
       "    <tr>\n",
       "      <th>96</th>\n",
       "      <td>37949.659133</td>\n",
       "      <td>5.068997e+05</td>\n",
       "      <td>9</td>\n",
       "    </tr>\n",
       "    <tr>\n",
       "      <th>97</th>\n",
       "      <td>32916.167790</td>\n",
       "      <td>3.743180e+05</td>\n",
       "      <td>8</td>\n",
       "    </tr>\n",
       "    <tr>\n",
       "      <th>98</th>\n",
       "      <td>20669.763163</td>\n",
       "      <td>2.745404e+05</td>\n",
       "      <td>7</td>\n",
       "    </tr>\n",
       "    <tr>\n",
       "      <th>99</th>\n",
       "      <td>5180.673605</td>\n",
       "      <td>1.440841e+05</td>\n",
       "      <td>6</td>\n",
       "    </tr>\n",
       "  </tbody>\n",
       "</table>\n",
       "</div>"
      ],
      "text/plain": [
       "    debt_per_year  other_funding_per_year  years\n",
       "85   80001.278615            9.057404e+05     20\n",
       "86  202095.213099            9.481889e+05     19\n",
       "87   75945.273321            1.072306e+06     18\n",
       "88  202006.844303            1.109622e+06     17\n",
       "89  132393.112028            1.363132e+06     16\n",
       "90  217347.507490            1.240642e+06     15\n",
       "91   73191.682774            1.121304e+06     14\n",
       "92  284471.820779            1.213827e+06     13\n",
       "93   67997.892704            9.117491e+05     12\n",
       "94   83449.326794            8.291433e+05     11\n",
       "95   25578.982400            6.498004e+05     10\n",
       "96   37949.659133            5.068997e+05      9\n",
       "97   32916.167790            3.743180e+05      8\n",
       "98   20669.763163            2.745404e+05      7\n",
       "99    5180.673605            1.440841e+05      6"
      ]
     },
     "execution_count": 27,
     "metadata": {},
     "output_type": "execute_result"
    }
   ],
   "source": [
    "companies_21st = funding.loc[funding.founded_year > 1999 , ['debt_per_year','other_funding_per_year','years']]\n",
    "companies_20th = funding.loc[funding.founded_year < 2000 , ['debt_per_year','other_funding_per_year','years']]\n",
    "\n",
    "companies_21st"
   ]
  },
  {
   "cell_type": "code",
   "execution_count": 28,
   "metadata": {
    "scrolled": false
   },
   "outputs": [
    {
     "data": {
      "image/png": "[encoded data removed]",
      "text/plain": [
       "<Figure size 432x288 with 1 Axes>"
      ]
     },
     "metadata": {
      "needs_background": "light"
     },
     "output_type": "display_data"
    }
   ],
   "source": [
    "ax = plt.gca()\n",
    "\n",
    "companies_21st.plot(kind='line',x='years',y='other_funding_per_year', color='#3ed4af', ax=ax)\n",
    "companies_21st.plot(kind='line',x='years',y='debt_per_year', color='grey', ax=ax)\n",
    "\n",
    "plt.show()"
   ]
  },
  {
   "cell_type": "code",
   "execution_count": 29,
   "metadata": {},
   "outputs": [
    {
     "data": {
      "image/png": "[encoded data removed]",
      "text/plain": [
       "<Figure size 1080x360 with 1 Axes>"
      ]
     },
     "metadata": {
      "needs_background": "light"
     },
     "output_type": "display_data"
    }
   ],
   "source": [
    "ax = plt.gca()\n",
    "\n",
    "companies_20th.plot(kind='line',x='years',y='other_funding_per_year', color='#3ed4af', ax=ax, figsize=(15,5))\n",
    "companies_20th.plot(kind='line',x='years',y='debt_per_year', color='grey', ax=ax, figsize=(15,5))\n",
    "\n",
    "plt.show()"
   ]
  }
 ],
 "metadata": {
  "kernelspec": {
   "display_name": "Python 3",
   "language": "python",
   "name": "python3"
  },
  "language_info": {
   "codemirror_mode": {
    "name": "ipython",
    "version": 3
   },
   "file_extension": ".py",
   "mimetype": "text/x-python",
   "name": "python",
   "nbconvert_exporter": "python",
   "pygments_lexer": "ipython3",
   "version": "3.7.4"
  }
 },
 "nbformat": 4,
 "nbformat_minor": 4
}
